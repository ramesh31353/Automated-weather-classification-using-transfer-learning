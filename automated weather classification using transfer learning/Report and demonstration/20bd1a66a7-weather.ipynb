{
 "cells": [
  {
   "cell_type": "code",
   "execution_count": 1,
   "id": "9a2ba23a",
   "metadata": {
    "_cell_guid": "b1076dfc-b9ad-4769-8c92-a6c4dae69d19",
    "_uuid": "8f2839f25d086af736a60e9eeb907d3b93b6e0e5",
    "execution": {
     "iopub.execute_input": "2022-12-01T18:30:06.947759Z",
     "iopub.status.busy": "2022-12-01T18:30:06.946838Z",
     "iopub.status.idle": "2022-12-01T18:30:06.961122Z",
     "shell.execute_reply": "2022-12-01T18:30:06.959860Z"
    },
    "papermill": {
     "duration": 0.024412,
     "end_time": "2022-12-01T18:30:06.963852",
     "exception": false,
     "start_time": "2022-12-01T18:30:06.939440",
     "status": "completed"
    },
    "tags": []
   },
   "outputs": [],
   "source": [
    "# This Python 3 environment comes with many helpful analytics libraries installed\n",
    "# It is defined by the kaggle/python Docker image: https://github.com/kaggle/docker-python\n",
    "# For example, here's several helpful packages to load\n",
    "\n",
    "import numpy as np # linear algebra\n",
    "import pandas as pd # data processing, CSV file I/O (e.g. pd.read_csv)\n",
    "\n",
    "# Input data files are available in the read-only \"../input/\" directory\n",
    "# For example, running this (by clicking run or pressing Shift+Enter) will list all files under the input directory\n",
    "\n",
    "import os\n",
    "#for dirname, _, filenames in os.walk('/kaggle/input'):\n",
    "    #for filename in filenames:\n",
    "        #print(os.path.join(dirname, filename))\n",
    "\n",
    "# You can write up to 20GB to the current directory (/kaggle/working/) that gets preserved as output when you create a version using \"Save & Run All\" \n",
    "# You can also write temporary files to /kaggle/temp/, but they won't be saved outside of the current session"
   ]
  },
  {
   "cell_type": "code",
   "execution_count": 2,
   "id": "d7e9e308",
   "metadata": {
    "execution": {
     "iopub.execute_input": "2022-12-01T18:30:06.975508Z",
     "iopub.status.busy": "2022-12-01T18:30:06.975083Z",
     "iopub.status.idle": "2022-12-01T18:30:07.262464Z",
     "shell.execute_reply": "2022-12-01T18:30:07.261368Z"
    },
    "papermill": {
     "duration": 0.296777,
     "end_time": "2022-12-01T18:30:07.265289",
     "exception": false,
     "start_time": "2022-12-01T18:30:06.968512",
     "status": "completed"
    },
    "tags": []
   },
   "outputs": [],
   "source": [
    "import pandas as pd\n",
    "import numpy as np\n",
    "from glob import glob\n",
    "from tqdm import tqdm\n",
    "import cv2\n",
    "from PIL import Image\n",
    "import os"
   ]
  },
  {
   "cell_type": "code",
   "execution_count": 3,
   "id": "99ab3284",
   "metadata": {
    "execution": {
     "iopub.execute_input": "2022-12-01T18:30:07.279026Z",
     "iopub.status.busy": "2022-12-01T18:30:07.278034Z",
     "iopub.status.idle": "2022-12-01T18:30:07.292093Z",
     "shell.execute_reply": "2022-12-01T18:30:07.290010Z"
    },
    "papermill": {
     "duration": 0.025877,
     "end_time": "2022-12-01T18:30:07.295692",
     "exception": false,
     "start_time": "2022-12-01T18:30:07.269815",
     "status": "completed"
    },
    "tags": []
   },
   "outputs": [],
   "source": [
    "import numpy as np\n",
    "import pandas as pd\n",
    "from glob import glob\n",
    "from tqdm import tqdm\n",
    "import cv2\n",
    "import matplotlib as plt\n",
    "from matplotlib import image\n",
    "from PIL import Image\n",
    "import os\n",
    "names = {}\n",
    "def load_imgs(path):\n",
    "    imgs = []\n",
    "    label = []\n",
    "    l1 = os.listdir(path)\n",
    "    category = 0\n",
    "    for i in l1:\n",
    "        if i!='test.csv':\n",
    "            names[category] = i\n",
    "            l2 = os.listdir(path+'/'+i)\n",
    "            for j in l2:\n",
    "                img = Image.open(path+i+'/'+j).convert('RGB')\n",
    "                img = img.resize(size=(32,32))\n",
    "                #img = img.convert('L')\n",
    "                imgs.append(np.array(img))\n",
    "                label.append(i)\n",
    "                del img\n",
    "            category += 1\n",
    "    return np.array(imgs),label"
   ]
  },
  {
   "cell_type": "code",
   "execution_count": 4,
   "id": "10498905",
   "metadata": {
    "execution": {
     "iopub.execute_input": "2022-12-01T18:30:07.306723Z",
     "iopub.status.busy": "2022-12-01T18:30:07.306230Z",
     "iopub.status.idle": "2022-12-01T18:30:30.111031Z",
     "shell.execute_reply": "2022-12-01T18:30:30.109361Z"
    },
    "papermill": {
     "duration": 22.813741,
     "end_time": "2022-12-01T18:30:30.113863",
     "exception": false,
     "start_time": "2022-12-01T18:30:07.300122",
     "status": "completed"
    },
    "tags": []
   },
   "outputs": [],
   "source": [
    "train_x, train_y = load_imgs('/kaggle/input/multiclass-weather-dataset/dataset/')"
   ]
  },
  {
   "cell_type": "code",
   "execution_count": 5,
   "id": "298e14f5",
   "metadata": {
    "execution": {
     "iopub.execute_input": "2022-12-01T18:30:30.123821Z",
     "iopub.status.busy": "2022-12-01T18:30:30.123415Z",
     "iopub.status.idle": "2022-12-01T18:30:30.134477Z",
     "shell.execute_reply": "2022-12-01T18:30:30.132555Z"
    },
    "papermill": {
     "duration": 0.018617,
     "end_time": "2022-12-01T18:30:30.136508",
     "exception": false,
     "start_time": "2022-12-01T18:30:30.117891",
     "status": "completed"
    },
    "tags": []
   },
   "outputs": [
    {
     "data": {
      "text/plain": [
       "{0: 'cloudy',\n",
       " 1: 'sunrise',\n",
       " 2: 'alien_test',\n",
       " 3: 'shine',\n",
       " 4: 'foggy',\n",
       " 5: 'rainy'}"
      ]
     },
     "execution_count": 5,
     "metadata": {},
     "output_type": "execute_result"
    }
   ],
   "source": [
    "names"
   ]
  },
  {
   "cell_type": "code",
   "execution_count": 6,
   "id": "c69279c9",
   "metadata": {
    "execution": {
     "iopub.execute_input": "2022-12-01T18:30:30.146998Z",
     "iopub.status.busy": "2022-12-01T18:30:30.146550Z",
     "iopub.status.idle": "2022-12-01T18:30:30.167354Z",
     "shell.execute_reply": "2022-12-01T18:30:30.165374Z"
    },
    "papermill": {
     "duration": 0.029789,
     "end_time": "2022-12-01T18:30:30.170545",
     "exception": false,
     "start_time": "2022-12-01T18:30:30.140756",
     "status": "completed"
    },
    "tags": []
   },
   "outputs": [
    {
     "data": {
      "text/plain": [
       "((1530, 32, 32, 3), (1530,))"
      ]
     },
     "execution_count": 6,
     "metadata": {},
     "output_type": "execute_result"
    }
   ],
   "source": [
    "train_y = pd.factorize(np.array(train_y))[0]\n",
    "train_x.shape, train_y.shape"
   ]
  },
  {
   "cell_type": "code",
   "execution_count": 7,
   "id": "7f27c1fd",
   "metadata": {
    "execution": {
     "iopub.execute_input": "2022-12-01T18:30:30.181189Z",
     "iopub.status.busy": "2022-12-01T18:30:30.180748Z",
     "iopub.status.idle": "2022-12-01T18:30:30.190665Z",
     "shell.execute_reply": "2022-12-01T18:30:30.189243Z"
    },
    "papermill": {
     "duration": 0.018011,
     "end_time": "2022-12-01T18:30:30.192808",
     "exception": false,
     "start_time": "2022-12-01T18:30:30.174797",
     "status": "completed"
    },
    "tags": []
   },
   "outputs": [
    {
     "data": {
      "text/plain": [
       "array([0, 1, 2, 3, 4, 5])"
      ]
     },
     "execution_count": 7,
     "metadata": {},
     "output_type": "execute_result"
    }
   ],
   "source": [
    "np.unique(train_y)"
   ]
  },
  {
   "cell_type": "code",
   "execution_count": 8,
   "id": "1ec1a97d",
   "metadata": {
    "execution": {
     "iopub.execute_input": "2022-12-01T18:30:30.203608Z",
     "iopub.status.busy": "2022-12-01T18:30:30.202149Z",
     "iopub.status.idle": "2022-12-01T18:30:31.265124Z",
     "shell.execute_reply": "2022-12-01T18:30:31.264221Z"
    },
    "papermill": {
     "duration": 1.07021,
     "end_time": "2022-12-01T18:30:31.267110",
     "exception": false,
     "start_time": "2022-12-01T18:30:30.196900",
     "status": "completed"
    },
    "tags": []
   },
   "outputs": [
    {
     "data": {
      "text/plain": [
       "((1147, 32, 32, 3), (1147,), (383, 32, 32, 3), (383,))"
      ]
     },
     "execution_count": 8,
     "metadata": {},
     "output_type": "execute_result"
    }
   ],
   "source": [
    "from sklearn.model_selection import train_test_split\n",
    "x_train,x_test,y_train,y_test = train_test_split(train_x,train_y,test_size=0.25,random_state=True)\n",
    "x_train.shape, y_train.shape, x_test.shape, y_test.shape"
   ]
  },
  {
   "cell_type": "code",
   "execution_count": 9,
   "id": "7956255b",
   "metadata": {
    "execution": {
     "iopub.execute_input": "2022-12-01T18:30:31.277362Z",
     "iopub.status.busy": "2022-12-01T18:30:31.276780Z",
     "iopub.status.idle": "2022-12-01T18:30:38.482138Z",
     "shell.execute_reply": "2022-12-01T18:30:38.480711Z"
    },
    "papermill": {
     "duration": 7.213415,
     "end_time": "2022-12-01T18:30:38.484720",
     "exception": false,
     "start_time": "2022-12-01T18:30:31.271305",
     "status": "completed"
    },
    "tags": []
   },
   "outputs": [
    {
     "name": "stdout",
     "output_type": "stream",
     "text": [
      "Model: \"sequential\"\n",
      "_________________________________________________________________\n",
      "Layer (type)                 Output Shape              Param #   \n",
      "=================================================================\n",
      "conv2d (Conv2D)              (None, 30, 30, 32)        896       \n",
      "_________________________________________________________________\n",
      "max_pooling2d (MaxPooling2D) (None, 15, 15, 32)        0         \n",
      "_________________________________________________________________\n",
      "conv2d_1 (Conv2D)            (None, 13, 13, 64)        18496     \n",
      "_________________________________________________________________\n",
      "max_pooling2d_1 (MaxPooling2 (None, 6, 6, 64)          0         \n",
      "_________________________________________________________________\n",
      "conv2d_2 (Conv2D)            (None, 4, 4, 128)         73856     \n",
      "_________________________________________________________________\n",
      "max_pooling2d_2 (MaxPooling2 (None, 2, 2, 128)         0         \n",
      "_________________________________________________________________\n",
      "flatten (Flatten)            (None, 512)               0         \n",
      "_________________________________________________________________\n",
      "dense (Dense)                (None, 1000)              513000    \n",
      "_________________________________________________________________\n",
      "dense_1 (Dense)              (None, 6)                 6006      \n",
      "=================================================================\n",
      "Total params: 612,254\n",
      "Trainable params: 612,254\n",
      "Non-trainable params: 0\n",
      "_________________________________________________________________\n"
     ]
    },
    {
     "name": "stderr",
     "output_type": "stream",
     "text": [
      "2022-12-01 18:30:38.353440: I tensorflow/core/common_runtime/process_util.cc:146] Creating new thread pool with default inter op setting: 2. Tune using inter_op_parallelism_threads for best performance.\n"
     ]
    }
   ],
   "source": [
    "from tensorflow.keras.models import Sequential\n",
    "from tensorflow.keras.layers import Flatten,Conv2D,Dense\n",
    "from tensorflow.keras.layers import MaxPool2D\n",
    "#defining model\n",
    "model = Sequential()\n",
    "#adding Convolution layer\n",
    "model.add(Conv2D(32,activation='relu',kernel_size=3,input_shape=x_train.shape[1:]))\n",
    "#adding pooling layer\n",
    "model.add(MaxPool2D(2,2))\n",
    "model.add(Conv2D(64,activation='relu',kernel_size=3))\n",
    "model.add(MaxPool2D(2,2))\n",
    "model.add(Conv2D(128,activation='relu',kernel_size=3))\n",
    "model.add(MaxPool2D(2,2))\n",
    "model.add(Flatten())\n",
    "#adding fully connected layer\n",
    "model.add(Dense(1000,activation='relu'))\n",
    "#adding output layer\n",
    "model.add(Dense(6,activation='softmax'))\n",
    "model.summary()\n"
   ]
  },
  {
   "cell_type": "code",
   "execution_count": 10,
   "id": "1f18a44a",
   "metadata": {
    "execution": {
     "iopub.execute_input": "2022-12-01T18:30:38.496744Z",
     "iopub.status.busy": "2022-12-01T18:30:38.495604Z",
     "iopub.status.idle": "2022-12-01T18:30:38.511586Z",
     "shell.execute_reply": "2022-12-01T18:30:38.510763Z"
    },
    "papermill": {
     "duration": 0.024293,
     "end_time": "2022-12-01T18:30:38.514128",
     "exception": false,
     "start_time": "2022-12-01T18:30:38.489835",
     "status": "completed"
    },
    "tags": []
   },
   "outputs": [],
   "source": [
    "#compiling the model\n",
    "model.compile(loss='sparse_categorical_crossentropy',optimizer='adam',metrics=['accuracy'])"
   ]
  },
  {
   "cell_type": "code",
   "execution_count": 11,
   "id": "e2218a27",
   "metadata": {
    "execution": {
     "iopub.execute_input": "2022-12-01T18:30:38.525221Z",
     "iopub.status.busy": "2022-12-01T18:30:38.524340Z",
     "iopub.status.idle": "2022-12-01T18:31:06.941260Z",
     "shell.execute_reply": "2022-12-01T18:31:06.939325Z"
    },
    "papermill": {
     "duration": 28.425391,
     "end_time": "2022-12-01T18:31:06.943965",
     "exception": false,
     "start_time": "2022-12-01T18:30:38.518574",
     "status": "completed"
    },
    "tags": []
   },
   "outputs": [
    {
     "name": "stderr",
     "output_type": "stream",
     "text": [
      "2022-12-01 18:30:38.616335: I tensorflow/compiler/mlir/mlir_graph_optimization_pass.cc:185] None of the MLIR Optimization Passes are enabled (registered 2)\n"
     ]
    },
    {
     "name": "stdout",
     "output_type": "stream",
     "text": [
      "Epoch 1/30\n",
      "36/36 [==============================] - 2s 25ms/step - loss: 6.9020 - accuracy: 0.4743\n",
      "Epoch 2/30\n",
      "36/36 [==============================] - 1s 25ms/step - loss: 0.9614 - accuracy: 0.6408\n",
      "Epoch 3/30\n",
      "36/36 [==============================] - 1s 26ms/step - loss: 0.7778 - accuracy: 0.7140\n",
      "Epoch 4/30\n",
      "36/36 [==============================] - 1s 25ms/step - loss: 0.6759 - accuracy: 0.7629\n",
      "Epoch 5/30\n",
      "36/36 [==============================] - 1s 24ms/step - loss: 0.6175 - accuracy: 0.7716\n",
      "Epoch 6/30\n",
      "36/36 [==============================] - 1s 24ms/step - loss: 0.5591 - accuracy: 0.7969\n",
      "Epoch 7/30\n",
      "36/36 [==============================] - 1s 23ms/step - loss: 0.4932 - accuracy: 0.8265\n",
      "Epoch 8/30\n",
      "36/36 [==============================] - 1s 24ms/step - loss: 0.3697 - accuracy: 0.8779\n",
      "Epoch 9/30\n",
      "36/36 [==============================] - 1s 24ms/step - loss: 0.3190 - accuracy: 0.8936\n",
      "Epoch 10/30\n",
      "36/36 [==============================] - 1s 24ms/step - loss: 0.2746 - accuracy: 0.8945\n",
      "Epoch 11/30\n",
      "36/36 [==============================] - 1s 23ms/step - loss: 0.2334 - accuracy: 0.9276\n",
      "Epoch 12/30\n",
      "36/36 [==============================] - 1s 23ms/step - loss: 0.1874 - accuracy: 0.9381\n",
      "Epoch 13/30\n",
      "36/36 [==============================] - 1s 23ms/step - loss: 0.2752 - accuracy: 0.9041\n",
      "Epoch 14/30\n",
      "36/36 [==============================] - 1s 23ms/step - loss: 0.1966 - accuracy: 0.9329\n",
      "Epoch 15/30\n",
      "36/36 [==============================] - 1s 24ms/step - loss: 0.1897 - accuracy: 0.9407\n",
      "Epoch 16/30\n",
      "36/36 [==============================] - 1s 25ms/step - loss: 0.2278 - accuracy: 0.9329\n",
      "Epoch 17/30\n",
      "36/36 [==============================] - 1s 24ms/step - loss: 0.3224 - accuracy: 0.8849\n",
      "Epoch 18/30\n",
      "36/36 [==============================] - 1s 24ms/step - loss: 0.2305 - accuracy: 0.9250\n",
      "Epoch 19/30\n",
      "36/36 [==============================] - 1s 23ms/step - loss: 0.1340 - accuracy: 0.9616\n",
      "Epoch 20/30\n",
      "36/36 [==============================] - 1s 24ms/step - loss: 0.1142 - accuracy: 0.9669\n",
      "Epoch 21/30\n",
      "36/36 [==============================] - 1s 24ms/step - loss: 0.1003 - accuracy: 0.9738\n",
      "Epoch 22/30\n",
      "36/36 [==============================] - 1s 39ms/step - loss: 0.1031 - accuracy: 0.9686\n",
      "Epoch 23/30\n",
      "36/36 [==============================] - 1s 28ms/step - loss: 0.0864 - accuracy: 0.9730\n",
      "Epoch 24/30\n",
      "36/36 [==============================] - 1s 24ms/step - loss: 0.1002 - accuracy: 0.9730\n",
      "Epoch 25/30\n",
      "36/36 [==============================] - 1s 25ms/step - loss: 0.1344 - accuracy: 0.9608\n",
      "Epoch 26/30\n",
      "36/36 [==============================] - 1s 25ms/step - loss: 0.1646 - accuracy: 0.9451\n",
      "Epoch 27/30\n",
      "36/36 [==============================] - 1s 26ms/step - loss: 0.2000 - accuracy: 0.9425\n",
      "Epoch 28/30\n",
      "36/36 [==============================] - 1s 27ms/step - loss: 0.1441 - accuracy: 0.9547\n",
      "Epoch 29/30\n",
      "36/36 [==============================] - 1s 31ms/step - loss: 0.0725 - accuracy: 0.9826\n",
      "Epoch 30/30\n",
      "36/36 [==============================] - 1s 34ms/step - loss: 0.0514 - accuracy: 0.9895\n"
     ]
    },
    {
     "data": {
      "text/plain": [
       "<keras.callbacks.History at 0x7fd224c76e50>"
      ]
     },
     "execution_count": 11,
     "metadata": {},
     "output_type": "execute_result"
    }
   ],
   "source": [
    "model.fit(x_train,y_train,epochs=30)"
   ]
  },
  {
   "cell_type": "code",
   "execution_count": 12,
   "id": "cfd4b47f",
   "metadata": {
    "execution": {
     "iopub.execute_input": "2022-12-01T18:31:07.013957Z",
     "iopub.status.busy": "2022-12-01T18:31:07.013489Z",
     "iopub.status.idle": "2022-12-01T18:31:07.352453Z",
     "shell.execute_reply": "2022-12-01T18:31:07.351345Z"
    },
    "papermill": {
     "duration": 0.376894,
     "end_time": "2022-12-01T18:31:07.355119",
     "exception": false,
     "start_time": "2022-12-01T18:31:06.978225",
     "status": "completed"
    },
    "tags": []
   },
   "outputs": [
    {
     "name": "stdout",
     "output_type": "stream",
     "text": [
      "12/12 [==============================] - 0s 9ms/step - loss: 1.3730 - accuracy: 0.7990\n"
     ]
    },
    {
     "data": {
      "text/plain": [
       "79.89556193351746"
      ]
     },
     "execution_count": 12,
     "metadata": {},
     "output_type": "execute_result"
    }
   ],
   "source": [
    "_,acc = model.evaluate(x_test,y_test)\n",
    "acc*100"
   ]
  },
  {
   "cell_type": "code",
   "execution_count": 13,
   "id": "121d8f9c",
   "metadata": {
    "execution": {
     "iopub.execute_input": "2022-12-01T18:31:07.423863Z",
     "iopub.status.busy": "2022-12-01T18:31:07.422435Z",
     "iopub.status.idle": "2022-12-01T18:31:07.760537Z",
     "shell.execute_reply": "2022-12-01T18:31:07.759617Z"
    },
    "papermill": {
     "duration": 0.373996,
     "end_time": "2022-12-01T18:31:07.762417",
     "exception": false,
     "start_time": "2022-12-01T18:31:07.388421",
     "status": "completed"
    },
    "tags": []
   },
   "outputs": [
    {
     "data": {
      "text/plain": [
       "'cloudy'"
      ]
     },
     "execution_count": 13,
     "metadata": {},
     "output_type": "execute_result"
    },
    {
     "data": {
      "image/png": "[encoded data removed]",
      "text/plain": [
       "<Figure size 432x288 with 1 Axes>"
      ]
     },
     "metadata": {
      "needs_background": "light"
     },
     "output_type": "display_data"
    }
   ],
   "source": [
    "res = model.predict(x_test[:1])\n",
    "ind = np.argmax(res)\n",
    "plt.pyplot.imshow(x_test[0])\n",
    "names[ind]"
   ]
  },
  {
   "cell_type": "code",
   "execution_count": 14,
   "id": "765713c8",
   "metadata": {
    "execution": {
     "iopub.execute_input": "2022-12-01T18:31:07.829020Z",
     "iopub.status.busy": "2022-12-01T18:31:07.828295Z",
     "iopub.status.idle": "2022-12-01T18:31:08.050979Z",
     "shell.execute_reply": "2022-12-01T18:31:08.049258Z"
    },
    "papermill": {
     "duration": 0.259377,
     "end_time": "2022-12-01T18:31:08.053984",
     "exception": false,
     "start_time": "2022-12-01T18:31:07.794607",
     "status": "completed"
    },
    "tags": []
   },
   "outputs": [
    {
     "data": {
      "text/plain": [
       "'sunrise'"
      ]
     },
     "execution_count": 14,
     "metadata": {},
     "output_type": "execute_result"
    },
    {
     "data": {
      "image/png": "[encoded data removed]",
      "text/plain": [
       "<Figure size 432x288 with 1 Axes>"
      ]
     },
     "metadata": {
      "needs_background": "light"
     },
     "output_type": "display_data"
    }
   ],
   "source": [
    "res = model.predict(x_test[200:201])\n",
    "ind = np.argmax(res)\n",
    "plt.pyplot.imshow(x_test[200])\n",
    "names[ind]"
   ]
  }
 ],
 "metadata": {
  "kernelspec": {
   "display_name": "Python 3",
   "language": "python",
   "name": "python3"
  },
  "language_info": {
   "codemirror_mode": {
    "name": "ipython",
    "version": 3
   },
   "file_extension": ".py",
   "mimetype": "text/x-python",
   "name": "python",
   "nbconvert_exporter": "python",
   "pygments_lexer": "ipython3",
   "version": "3.7.12"
  },
  "papermill": {
   "default_parameters": {},
   "duration": 73.151282,
   "end_time": "2022-12-01T18:31:11.010558",
   "environment_variables": {},
   "exception": null,
   "input_path": "__notebook__.ipynb",
   "output_path": "__notebook__.ipynb",
   "parameters": {},
   "start_time": "2022-12-01T18:29:57.859276",
   "version": "2.3.4"
  }
 },
 "nbformat": 4,
 "nbformat_minor": 5
}
